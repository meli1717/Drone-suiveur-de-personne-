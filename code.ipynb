{
  "nbformat": 4,
  "nbformat_minor": 0,
  "metadata": {
    "colab": {
      "provenance": [],
      "mount_file_id": "1kro0QCq-yqMrK2EUzYAckAsYq-X8Wmgr",
      "authorship_tag": "ABX9TyMJ9y3fw5daIc4fGr3c3kFp",
      "include_colab_link": true
    },
    "kernelspec": {
      "name": "python3",
      "display_name": "Python 3"
    },
    "language_info": {
      "name": "python"
    }
  },
  "cells": [
    {
      "cell_type": "markdown",
      "metadata": {
        "id": "view-in-github",
        "colab_type": "text"
      },
      "source": [
        "<a href=\"https://colab.research.google.com/github/meli1717/Drone-suiveur-de-personne-/blob/main/code.ipynb\" target=\"_parent\"><img src=\"https://colab.research.google.com/assets/colab-badge.svg\" alt=\"Open In Colab\"/></a>"
      ]
    },
    {
      "cell_type": "markdown",
      "source": [
        "# Nouvelle section"
      ],
      "metadata": {
        "id": "OQ26pAPLqxYY"
      }
    },
    {
      "cell_type": "code",
      "execution_count": 23,
      "metadata": {
        "id": "kQri1gJpRCSU"
      },
      "outputs": [],
      "source": [
        "import tensorflow as tf\n",
        "from tensorflow.keras import layers\n",
        "from tensorflow.keras.preprocessing.image import ImageDataGenerator"
      ]
    },
    {
      "cell_type": "code",
      "source": [
        "from google.colab import drive\n",
        "drive.mount('/drive')"
      ],
      "metadata": {
        "colab": {
          "base_uri": "https://localhost:8080/"
        },
        "id": "ABvLWm6X4ckv",
        "outputId": "58e560b2-e5cb-4c51-dc79-049b12525fc6"
      },
      "execution_count": 24,
      "outputs": [
        {
          "output_type": "stream",
          "name": "stdout",
          "text": [
            "Mounted at /drive\n"
          ]
        }
      ]
    },
    {
      "cell_type": "code",
      "source": [
        "import cv2\n",
        "\n",
        "# Charger une image\n",
        "img = cv2.imread('/drive/MyDrive/dataset/train/class_a/image1.jpg')\n",
        "\n",
        "# Obtenir la taille de l'image\n",
        "hauteur, largeur = img.shape[:2]\n",
        "\n",
        "print('La taille de l\\'image est {}x{}'.format(largeur, hauteur))\n"
      ],
      "metadata": {
        "colab": {
          "base_uri": "https://localhost:8080/"
        },
        "id": "KQbMB_EaFo-x",
        "outputId": "dac51387-960a-441d-b6a1-0849dc9b29f2"
      },
      "execution_count": 25,
      "outputs": [
        {
          "output_type": "stream",
          "name": "stdout",
          "text": [
            "La taille de l'image est 255x255\n"
          ]
        }
      ]
    },
    {
      "cell_type": "code",
      "source": [
        "import os\n",
        "print(os.listdir('/drive/MyDrive/dataset/train'))\n"
      ],
      "metadata": {
        "colab": {
          "base_uri": "https://localhost:8080/"
        },
        "id": "_jJb3E-ZWEbN",
        "outputId": "6ea6a4cc-2c0a-4554-ebab-a61b47f26d04"
      },
      "execution_count": 26,
      "outputs": [
        {
          "output_type": "stream",
          "name": "stdout",
          "text": [
            "['class_a']\n"
          ]
        }
      ]
    },
    {
      "cell_type": "code",
      "source": [
        "# Chargement des données d'entraînement\n",
        "data = tf.keras.preprocessing.image.ImageDataGenerator()\n",
        "#num_classes = 1\n",
        "data = ImageDataGenerator(rescale=1./255)\n",
        "batch_size = 32\n",
        "\n",
        "train_data = data.flow_from_directory('/drive/MyDrive/dataset/train', target_size=(255, 255), batch_size=batch_size, class_mode='binary')\n",
        "val_data = data.flow_from_directory('/drive/MyDrive/dataset/validation', target_size=(255, 255), batch_size=batch_size, class_mode='binary')\n"
      ],
      "metadata": {
        "id": "v3mB8LRmX4Hn",
        "colab": {
          "base_uri": "https://localhost:8080/"
        },
        "outputId": "fd0f9746-3864-4937-a986-ded34d0fb1b6"
      },
      "execution_count": 27,
      "outputs": [
        {
          "output_type": "stream",
          "name": "stdout",
          "text": [
            "Found 452 images belonging to 1 classes.\n",
            "Found 38 images belonging to 1 classes.\n"
          ]
        }
      ]
    },
    {
      "cell_type": "code",
      "source": [
        "# Définition du nombre de classes\n",
        "num_classes = len(train_data.class_indices)\n",
        "print(num_classes)"
      ],
      "metadata": {
        "id": "CphUYyxBeQQd",
        "colab": {
          "base_uri": "https://localhost:8080/"
        },
        "outputId": "97f6943f-752d-4924-f74c-4f82d10697e9"
      },
      "execution_count": 28,
      "outputs": [
        {
          "output_type": "stream",
          "name": "stdout",
          "text": [
            "1\n"
          ]
        }
      ]
    },
    {
      "cell_type": "code",
      "source": [],
      "metadata": {
        "id": "e5Ht8f7vU9L3"
      },
      "execution_count": 28,
      "outputs": []
    },
    {
      "cell_type": "code",
      "source": [
        "from google.colab import drive\n",
        "drive.mount('/drive')"
      ],
      "metadata": {
        "id": "G7IKr537UnQ_",
        "colab": {
          "base_uri": "https://localhost:8080/"
        },
        "outputId": "c7dd3b7a-8620-4f73-c676-4c290a176d88"
      },
      "execution_count": 29,
      "outputs": [
        {
          "output_type": "stream",
          "name": "stdout",
          "text": [
            "Drive already mounted at /drive; to attempt to forcibly remount, call drive.mount(\"/drive\", force_remount=True).\n"
          ]
        }
      ]
    },
    {
      "cell_type": "code",
      "source": [
        "# Construction du modèle CNN\n",
        "model = tf.keras.Sequential([\n",
        "    layers.Conv2D(32, (3, 3), activation='relu', input_shape=(255, 255, 3)),\n",
        "    layers.MaxPooling2D((2, 2)),\n",
        "    layers.Conv2D(64, (3, 3), activation='relu'),\n",
        "    layers.MaxPooling2D((2, 2)),\n",
        "    layers.Conv2D(128, (3, 3), activation='relu'),\n",
        "    layers.MaxPooling2D((2, 2)),\n",
        "    layers.Flatten(),\n",
        "    layers.Dense(128, activation='relu'),\n",
        "    layers.Dense(num_classes, activation='softmax')\n",
        "])\n"
      ],
      "metadata": {
        "id": "k9Ot2ECjeV-V"
      },
      "execution_count": 30,
      "outputs": []
    },
    {
      "cell_type": "code",
      "source": [
        "# Compilation du modèle\n",
        "model.compile(optimizer='adam', loss='binary_crossentropy', metrics=['accuracy'])"
      ],
      "metadata": {
        "id": "yP2kzVbGeZ9O"
      },
      "execution_count": 31,
      "outputs": []
    },
    {
      "cell_type": "code",
      "source": [
        "# Entraînement du modèle\n",
        "history = model.fit(train_data, validation_data=val_data, epochs=10)"
      ],
      "metadata": {
        "id": "MfEstQm0ef8r",
        "colab": {
          "base_uri": "https://localhost:8080/"
        },
        "outputId": "24c59e37-95cf-4b01-e370-648c242a7b60"
      },
      "execution_count": null,
      "outputs": [
        {
          "output_type": "stream",
          "name": "stdout",
          "text": [
            "Epoch 1/10\n",
            "15/15 [==============================] - 82s 5s/step - loss: 0.0501 - accuracy: 0.0000e+00 - val_loss: 0.0000e+00 - val_accuracy: 0.0000e+00\n",
            "Epoch 2/10\n",
            "15/15 [==============================] - 78s 5s/step - loss: 0.0000e+00 - accuracy: 0.0000e+00 - val_loss: 0.0000e+00 - val_accuracy: 0.0000e+00\n",
            "Epoch 3/10\n",
            "15/15 [==============================] - 77s 5s/step - loss: 0.0000e+00 - accuracy: 0.0000e+00 - val_loss: 0.0000e+00 - val_accuracy: 0.0000e+00\n",
            "Epoch 4/10\n",
            "15/15 [==============================] - 77s 5s/step - loss: 0.0000e+00 - accuracy: 0.0000e+00 - val_loss: 0.0000e+00 - val_accuracy: 0.0000e+00\n",
            "Epoch 5/10\n",
            "15/15 [==============================] - 77s 5s/step - loss: 0.0000e+00 - accuracy: 0.0000e+00 - val_loss: 0.0000e+00 - val_accuracy: 0.0000e+00\n",
            "Epoch 6/10\n",
            "14/15 [===========================>..] - ETA: 4s - loss: 0.0000e+00 - accuracy: 0.0000e+00"
          ]
        }
      ]
    },
    {
      "cell_type": "code",
      "source": [
        "# Sauvegarde du modèle\n",
        "model.save('face_recognition_model.h5')"
      ],
      "metadata": {
        "id": "r-Bh-PXXejmy"
      },
      "execution_count": null,
      "outputs": []
    },
    {
      "cell_type": "code",
      "source": [
        "from tensorflow.keras.models import load_model\n",
        "\n",
        "model = load_model('face_recognition_model.h5')\n"
      ],
      "metadata": {
        "id": "lJmosyJkuxkA"
      },
      "execution_count": null,
      "outputs": []
    },
    {
      "cell_type": "code",
      "source": [
        "import sys\n",
        "print(sys.modules.keys())\n"
      ],
      "metadata": {
        "id": "glRwRAU0DeJM"
      },
      "execution_count": null,
      "outputs": []
    },
    {
      "cell_type": "code",
      "source": [
        "import cv2\n",
        "\n",
        "# Charger une image\n",
        "#image = cv2.imread('path/to/image.jpg')\n",
        "\n",
        "# Charger une vidéo\n",
        "cap = cv2.VideoCapture('/drive/MyDrive/dataset/test/class_c/video.mp4')\n"
      ],
      "metadata": {
        "id": "8DxWyBxxu8PP"
      },
      "execution_count": null,
      "outputs": []
    },
    {
      "cell_type": "code",
      "source": [
        "!wget https://raw.githubusercontent.com/opencv/opencv/master/data/haarcascades/haarcascade_frontalface_default.xml\n"
      ],
      "metadata": {
        "id": "CTx-LMcNy-oT"
      },
      "execution_count": null,
      "outputs": []
    },
    {
      "cell_type": "code",
      "source": [
        "import pandas as pd\n",
        "import numpy as np\n",
        "import cv2\n",
        "import os\n",
        "\n",
        "def load_features(filename):\n",
        "    \"\"\"Charge les caractéristiques faciales à partir d'un fichier .npy\"\"\"\n",
        "    return np.load(filename)\n",
        "\n",
        "class FaceDatabase:\n",
        "    def __init__(self, data):\n",
        "        self.data = data\n",
        "        \n",
        "    def compare(self, features, name):\n",
        "        \"\"\"Compare les caractéristiques faciales avec celles de l'individu donné\"\"\"\n",
        "        index = self.data[self.data['name'] == name].index[0]\n",
        "        known_features = np.array(self.data.iloc[index]['features'])\n",
        "        return np.dot(features, known_features)\n",
        "\n",
        "\n",
        "melinda_images = []\n",
        "melinda_dir = '/drive/MyDrive/dataset/melinda'\n",
        "\n",
        "for filename in os.listdir(melinda_dir):\n",
        "    if filename.endswith('.jpg'):\n",
        "        img = cv2.imread(os.path.join(melinda_dir, filename))\n",
        "        melinda_images.append(img)\n",
        "\n",
        "# Convertir les images en tableaux NumPy\n",
        "melinda_features = np.array([cv2.resize(img, (255, 255)) for img in melinda_images])\n",
        "\n",
        "# Enregistrer les caractéristiques faciales dans un fichier .npy\n",
        "np.save('melinda_features.npy', melinda_features)\n",
        "\n",
        "# Charger les caractéristiques faciales de Melinda et d'autres individus\n",
        "melinda_features = load_features('melinda_features.npy')\n",
        "\n",
        "# Convertir les caractéristiques de Melinda en un tableau 2D\n",
        "melinda_features = melinda_features.reshape((1, -1))\n",
        "\n",
        "# Créer un DataFrame contenant les caractéristiques faciales et les noms de chaque individu\n",
        "data = {'Name': ['Melinda'],\n",
        "        'features': [melinda_features]}\n",
        "df = pd.DataFrame(data)\n",
        "\n",
        "# Définir la variable db en tant que DataFrame\n",
        "db = df\n"
      ],
      "metadata": {
        "id": "lVHcZh6nEnFt"
      },
      "execution_count": null,
      "outputs": []
    },
    {
      "cell_type": "code",
      "source": [
        "import numpy as np\n",
        "import pandas as pd\n",
        "import cv2\n",
        "\n",
        "\n",
        "# Charger le classifieur de visages\n",
        "face_cascade = cv2.CascadeClassifier('haarcascade_frontalface_default.xml')\n",
        "\n",
        "# Pour une image\n",
        "#image = cv2.imread('/content/drive/MyDrive/Melinda.jpg')\n",
        "#gray = cv2.cvtColor(image, cv2.COLOR_BGR2GRAY)\n",
        "#faces = face_cascade.detectMultiScale(gray, scaleFactor=1.1, minNeighbors=5)\n",
        "\n",
        "# Pour une vidéo\n",
        "while True:\n",
        "    ret, frame = cap.read()\n",
        "    gray = cv2.cvtColor(frame, cv2.COLOR_BGR2GRAY)\n",
        "    faces = face_cascade.detectMultiScale(gray, scaleFactor=1.1, minNeighbors=5)\n",
        "    \n",
        "    #  code de reconnaissance faciale ici\n",
        "    # Pour chaque visage détecté\n",
        "    for (x, y, w, h) in faces:\n",
        "        face = frame[y:y+h, x:x+w] # extraire le visage de la vidéo\n",
        "        face = cv2.resize(face, (255, 255)) # redimensionner le visage pour l'adapter au modèle\n",
        "        face = np.expand_dims(face, axis=0) # ajouter une dimension pour le batch\n",
        "        face = face / 255.0 # normaliser l'image\n",
        "    \n",
        "        features = model.predict(face) # extraire les caractéristiques faciales avec le modèle\n",
        "\n",
        "        # Comparer les caractéristiques avec celles de\n",
        "        # Créer un DataFrame avec les caractéristiques et les noms des visages détectés\n",
        "        features_df = pd.DataFrame({'features': [f.flatten() for f in features], 'Name': ['Melinda'] * len(features)})\n",
        "        # Concaténer db et features_df en un seul DataFrame\n",
        "        concat_df = pd.concat([db, features_df], ignore_index=True)\n",
        "        predictions = concat_df.compare(concat_df[concat_df['Name']=='Melinda'], align_axis=0)\n",
        "    \n",
        "        # Afficher le nom de la personne identifiée\n",
        "        max_index = None\n",
        "        if len(predictions) > 0:\n",
        "            max_index = np.argmax(predictions)\n",
        "        if max_index == 0:\n",
        "            name = 'Melinda'\n",
        "        else:\n",
        "            name = 'Inconnu'\n",
        "        cv2.putText(frame, name, (x, y), cv2.FONT_HERSHEY_SIMPLEX, 1, (0, 255, 0), 2)\n",
        "\n",
        "    # Afficher la vidéo avec les noms des personnes identifiées\n",
        "    from google.colab.patches import cv2_imshow\n",
        "    #cv2_imshow('Video', frame)\n",
        "    cv2.putText(frame, name, (x, y-10), cv2.FONT_HERSHEY_SIMPLEX, 0.9, (0, 255, 0), 2)\n",
        "    cv2_imshow(frame)\n",
        "\n",
        "    # Sortir si la touche q est pressée\n",
        "    if cv2.waitKey(1) == ord('q'):\n",
        "        break\n",
        "\n",
        "# Libérer les ressources\n",
        "cap.release()\n",
        "cv2.destroyAllWindows()\n"
      ],
      "metadata": {
        "id": "SQA3g06pw925"
      },
      "execution_count": null,
      "outputs": []
    }
  ]
}